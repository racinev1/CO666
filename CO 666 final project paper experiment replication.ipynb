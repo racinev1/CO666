{
 "cells": [
  {
   "cell_type": "code",
   "execution_count": 1,
   "id": "4b0554f5",
   "metadata": {},
   "outputs": [],
   "source": [
    "import os\n",
    "import numpy as np\n",
    "import pandas as pd\n",
    "import matplotlib.pyplot as plt\n",
    "import seaborn as sns\n",
    "from numba import njit\n",
    "from sklearn.utils import shuffle"
   ]
  },
  {
   "cell_type": "code",
   "execution_count": 2,
   "id": "a8e665cd",
   "metadata": {},
   "outputs": [],
   "source": [
    "# g = sns.FacetGrid(df, col=\"method\")\n",
    "# g.map_dataframe(sns.lineplot, x=\"x\", y=\"y\")\n",
    "# g.add_legend()\n",
    "# g.set_axis_labels(\"Iteration\", \"Objective Value\")\n",
    "# for ax in g.axes.flatten():\n",
    "#     ax.grid(b=True, which='both')\n",
    "# plt.show()"
   ]
  },
  {
   "cell_type": "code",
   "execution_count": 3,
   "id": "97e1d709",
   "metadata": {},
   "outputs": [],
   "source": [
    "def random_Q(eta, psi, sigma_k, r, n=10, seed=1024):\n",
    "    np.random.seed(seed)\n",
    "    A = np.random.normal(size=(n, r))\n",
    "    q, _ = np.linalg.qr(A) \n",
    "    E = np.concatenate([np.eye(r), np.zeros((r, n-r))], axis=1).T\n",
    "    V = eta*q + (1-eta)*E\n",
    "    diag_sigma = np.exp(np.random.uniform(size=r, low=np.log(1/sigma_k), high=0))\n",
    "    if r > 1:\n",
    "        diag_sigma[diag_sigma == diag_sigma.min()] = 1/sigma_k\n",
    "        diag_sigma[diag_sigma == diag_sigma.max()] = 1\n",
    "    Sigma = np.diag(diag_sigma)\n",
    "    Q = V @ Sigma @ V.T + psi*np.ones((n, 1))@np.ones((n,1)).T\n",
    "    Q = Q/np.max(np.diag(Q))\n",
    "    return Q"
   ]
  },
  {
   "cell_type": "code",
   "execution_count": 4,
   "id": "40db2671",
   "metadata": {},
   "outputs": [],
   "source": [
    "def objective_function(w, Q):\n",
    "    return 0.5*w.T @ Q @ w"
   ]
  },
  {
   "cell_type": "code",
   "execution_count": 5,
   "id": "a0dc45c3",
   "metadata": {},
   "outputs": [],
   "source": [
    "# @njit()\n",
    "def update(indices, w, Q, obj_val_score, epoch_num):\n",
    "    n = len(w)\n",
    "    for i, idx in enumerate(indices):\n",
    "        wi_grad = Q[idx, :].T @ w\n",
    "        w[idx] = w[idx] - wi_grad\n",
    "        obj_val_score.append(0.5*w.T @ Q @ w)\n",
    "    return w "
   ]
  },
  {
   "cell_type": "code",
   "execution_count": 6,
   "id": "99ecdd04",
   "metadata": {},
   "outputs": [],
   "source": [
    "# @njit()\n",
    "def accelerate_update(indices, w, y, v,\n",
    "                      Q, sigma, gamma,\n",
    "                      obj_val_score, epoch_num):\n",
    "    n = len(w)\n",
    "    for i, idx in enumerate(indices):\n",
    "        b = (-1+sigma*gamma**2)/n\n",
    "        gamma = (-b + np.sqrt(b**2 + 4*gamma**2))/2\n",
    "        alpha = (n - gamma*sigma)/(gamma*(n**2 - sigma))\n",
    "        beta = 1 - (gamma*sigma/n)\n",
    "        y = alpha*v + (1-alpha)*w\n",
    "        yi_grad = np.zeros(n) \n",
    "        yi_grad[idx] = Q[idx, :].T @ y \n",
    "        w = y - yi_grad\n",
    "        obj_val_score.append(0.5*w.T @ Q @ w)\n",
    "        v = beta*v + (1-beta)*y - gamma*yi_grad\n",
    "        \n",
    "    return w, y, v, gamma"
   ]
  },
  {
   "cell_type": "code",
   "execution_count": 7,
   "id": "3f87920f",
   "metadata": {},
   "outputs": [],
   "source": [
    "def cd(Q, w, accelerate=False, tol=1e-6, maxiter=100,\n",
    "       method='cyclic', seed=1024, sigma=0):\n",
    "    \n",
    "    np.random.seed(seed)\n",
    "    n, _ = Q.shape\n",
    "    w = w.copy()\n",
    "    initial_obj_val = objective_function(w, Q)\n",
    "    if accelerate:\n",
    "        y = w.copy()\n",
    "        v = w.copy()\n",
    "        gamma = 0\n",
    "    obj_val_score = []\n",
    "    obj_val_score.append(initial_obj_val)\n",
    "    for e in range(maxiter):\n",
    "        if method == 'cyclic':\n",
    "            indices = np.arange(n)\n",
    "        elif method == \"random\":\n",
    "            indices = np.random.choice(n, size=n, replace=True)\n",
    "        elif method == \"epoch\":\n",
    "            indices = shuffle(np.arange(n))\n",
    "        if accelerate:\n",
    "            w, y, v, gamma = accelerate_update(indices, w, y, v,\n",
    "                                               Q,\n",
    "                                               sigma, gamma,\n",
    "                                               obj_val_score, e)\n",
    "        else:\n",
    "            w = update(indices, w, Q, obj_val_score, e)\n",
    "        obj_val = objective_function(w, Q)\n",
    "        ratio = obj_val/initial_obj_val\n",
    "        if ratio < tol:\n",
    "            break\n",
    "    return w, obj_val_score"
   ]
  },
  {
   "cell_type": "code",
   "execution_count": 8,
   "id": "118f5292",
   "metadata": {},
   "outputs": [],
   "source": [
    "def gd(Q, w, eta, tol=1e-6, maxiter=100):\n",
    "    \n",
    "    obj_val_score = []\n",
    "    w = w.copy()\n",
    "    initial_obj_val = objective_function(w, Q)\n",
    "    obj_val_score.append(initial_obj_val)\n",
    "    for e in range(maxiter):\n",
    "        \n",
    "        w = w - eta*Q@w\n",
    "        obj_val = objective_function(w, Q)\n",
    "        obj_val_score.append(obj_val)\n",
    "        ratio = obj_val/initial_obj_val\n",
    "        if ratio < tol:\n",
    "            break\n",
    "    \n",
    "    return w, obj_val_score\n",
    "        "
   ]
  },
  {
   "cell_type": "code",
   "execution_count": 9,
   "id": "0a34acf2",
   "metadata": {},
   "outputs": [],
   "source": [
    "def theory_bound(L, Ro, fo, n):\n",
    "    \"\"\"\n",
    "    L: Lipschitz constant of Q\n",
    "    Ro: norm(w0)\n",
    "    fo: objective value of w0\n",
    "    n: number of variables\n",
    "    n_iter: number of iteration to plot the bound\n",
    "    \"\"\"\n",
    "    #Lmax is assume to equal 1\n",
    "    #f* = 0\n",
    "    So = Ro + fo/n**2\n",
    "    rhs = fo * 1e-6\n",
    "    random = 2*n*Ro**2/rhs\n",
    "    cyclic = (4*n*(1 + n*L**2)*Ro**2)/rhs - 8\n",
    "    acc = n/np.sqrt(rhs/So) - 1\n",
    "    full = 2*L*Ro**2/rhs\n",
    "    \n",
    "    return pd.Series({'random': random,\n",
    "                      'cyclic': cyclic,\n",
    "                      'acc': acc,\n",
    "                      'full': full})"
   ]
  },
  {
   "cell_type": "code",
   "execution_count": 10,
   "id": "75dfff40",
   "metadata": {},
   "outputs": [],
   "source": [
    "def average_bound(df):\n",
    "    return df.groupby(['method', 'trial'])['y'].count().groupby('method').mean()"
   ]
  },
  {
   "cell_type": "code",
   "execution_count": 11,
   "id": "8b43475f",
   "metadata": {},
   "outputs": [],
   "source": [
    "def best_bound(df):\n",
    "    return df.groupby(['method', 'trial'])['y'].count().groupby('method').min()"
   ]
  },
  {
   "cell_type": "code",
   "execution_count": 12,
   "id": "5eec4abf",
   "metadata": {},
   "outputs": [],
   "source": [
    "def worse_bound(df):\n",
    "    return df.groupby(['method', 'trial'])['y'].count().groupby('method').max()"
   ]
  },
  {
   "cell_type": "code",
   "execution_count": 13,
   "id": "51aeab63",
   "metadata": {},
   "outputs": [],
   "source": [
    "def experiment(Q, w, sigma, L, maxiter=5):\n",
    "\n",
    "    seeds = [2048, 1972, 2034, 2022, 3021]\n",
    "    x = [] \n",
    "    y = []\n",
    "    method = []\n",
    "    trial = []\n",
    "    n = Q.shape[0]\n",
    "    for i, seed in enumerate(seeds):\n",
    "        if i==0:\n",
    "            _, obj_val_score_cyclic = cd(Q, w, maxiter=maxiter, seed=seed)\n",
    "            rep = len(obj_val_score_cyclic) - 1\n",
    "            x = x + list(np.arange(rep))\n",
    "            method = method + ['cyclic']*rep\n",
    "            trial = trial + [i]*rep\n",
    "            y = y + list(obj_val_score_cyclic[1:])\n",
    "        \n",
    "        \n",
    "        _, obj_val_score_random = cd(Q, w, maxiter=maxiter, method=\"random\", seed=seed)\n",
    "        rep = len(obj_val_score_random) - 1\n",
    "        x = x + list(np.arange(rep))\n",
    "        method = method + ['random']*rep\n",
    "        trial = trial + [i]*rep\n",
    "        y = y + list(obj_val_score_random[1:])\n",
    "\n",
    "        _, obj_val_score_random_acc = cd(Q, w, maxiter=maxiter, method=\"random\", accelerate=True,\n",
    "                                         sigma=max(0, sigma.real), seed=seed)\n",
    "        rep = len(obj_val_score_random_acc) - 1\n",
    "        x = x + list(np.arange(rep))\n",
    "        method = method + ['accelerated random']*rep\n",
    "        trial = trial + [i]*rep\n",
    "        y = y + list(obj_val_score_random_acc[1:])\n",
    "        \n",
    "        \n",
    "        if i==0:\n",
    "            _, obj_val_score_gd = gd(Q, w, eta=1/L.real, maxiter=n*maxiter)\n",
    "            rep = len(obj_val_score_gd) - 1\n",
    "            x = x + list(np.arange(rep))\n",
    "            method = method + ['gradient descent']*rep\n",
    "            trial = trial + [i]*rep\n",
    "            y = y + list(obj_val_score_gd[1:])\n",
    "    \n",
    "    df = pd.DataFrame({'x': x,\n",
    "                       'y': y,\n",
    "                       'method': method,\n",
    "                       'trial':trial})\n",
    "    return df"
   ]
  },
  {
   "cell_type": "code",
   "execution_count": 14,
   "id": "d76b802a",
   "metadata": {},
   "outputs": [],
   "source": [
    "def theory_grid_search(n=10, r_step=1):\n",
    "    theory_results = []\n",
    "    for r in range(1, n+1, r_step):\n",
    "        for sigma_k in np.arange(start=1, stop=111, step=10):\n",
    "            for eta in np.arange(start=0, stop=1.1, step=0.1):\n",
    "                for psi in np.exp(np.arange(start=-5, stop=0.5, step=0.5)):\n",
    "                    Q = random_Q(eta=eta, psi=psi, sigma_k=sigma_k, r=r, n=n, seed=2012)\n",
    "                    u, v = np.linalg.eig(Q)\n",
    "                    L = np.round(np.max(u), 8)\n",
    "                    w = np.random.normal(size=n)\n",
    "                    Ro = np.linalg.norm(w)\n",
    "                    fo = objective_function(w, Q)\n",
    "                    series = theory_bound(L.real, Ro, fo, n)\n",
    "                    theory_results.append(series)\n",
    "    return theory_results"
   ]
  },
  {
   "cell_type": "code",
   "execution_count": 15,
   "id": "daa01c06",
   "metadata": {},
   "outputs": [],
   "source": [
    "def experiment_grid_search(n=10, r_step=1):\n",
    "    #run a grid search\n",
    "    average_results = []\n",
    "    best_results = []\n",
    "    worse_results = []\n",
    "    meta_data = []\n",
    "    for r in range(1, n+1, r_step):\n",
    "        for sigma_k in np.arange(start=1, stop=111, step=10):\n",
    "            for eta in np.arange(start=0, stop=1.1, step=0.1):\n",
    "                for psi in np.exp(np.arange(start=-5, stop=0.5, step=0.5)):\n",
    "                    Q = random_Q(eta=eta, psi=psi, sigma_k=sigma_k, r=r, n=n, seed=2012)\n",
    "                    u, v = np.linalg.eig(Q)\n",
    "                    sigma = np.round(np.min(u), 8)\n",
    "                    L = np.round(np.max(u), 8)\n",
    "                    w = np.random.normal(size=n)\n",
    "                    u, v = np.linalg.eig(Q)\n",
    "                    sigma = np.round(np.min(u), 8)\n",
    "                    L = np.round(np.max(u), 8)\n",
    "                    Ro = np.linalg.norm(w)\n",
    "                    fo = objective_function(w, Q)\n",
    "                    df = experiment(Q, w, sigma, L, maxiter=5000)\n",
    "                    series = pd.Series(dtype='float64')\n",
    "                    series['sigma'] = sigma.real\n",
    "                    series['L'] = L.real\n",
    "                    series['eta'] = eta\n",
    "                    series['r'] = r\n",
    "                    series['psi'] = psi\n",
    "                    series['sigma_k'] = sigma_k\n",
    "                    meta_data.append(series)\n",
    "                    series = average_bound(df)\n",
    "                    average_results.append(series)\n",
    "                    series = best_bound(df)\n",
    "                    best_results.append(series)\n",
    "                    series = worse_bound(df)\n",
    "                    worse_results.append(series)\n",
    "    return meta_data, average_results, best_results, worse_results\n",
    "    "
   ]
  },
  {
   "cell_type": "code",
   "execution_count": null,
   "id": "abbb7ef9",
   "metadata": {},
   "outputs": [],
   "source": [
    "theory_results = theory_grid_search(n=10, r_step=1)"
   ]
  },
  {
   "cell_type": "code",
   "execution_count": null,
   "id": "55fdc1fb",
   "metadata": {},
   "outputs": [],
   "source": [
    "meta_data, average_results, best_results, worst_results = experiment_grid_search(n=10, r_step=1)"
   ]
  },
  {
   "cell_type": "code",
   "execution_count": 15,
   "id": "671cbe76",
   "metadata": {},
   "outputs": [],
   "source": [
    "meta_data_df = pd.DataFrame(meta_data)"
   ]
  },
  {
   "cell_type": "code",
   "execution_count": 16,
   "id": "e427c705",
   "metadata": {},
   "outputs": [],
   "source": [
    "average_results_df = pd.DataFrame(average_results)"
   ]
  },
  {
   "cell_type": "code",
   "execution_count": 19,
   "id": "f821690b",
   "metadata": {},
   "outputs": [],
   "source": [
    "average_results_df = pd.merge(meta_data_df, average_results_df.reset_index(),\n",
    "                              left_index=True, right_index=True).drop('index', axis=1)"
   ]
  },
  {
   "cell_type": "code",
   "execution_count": 21,
   "id": "dfbaba0a",
   "metadata": {},
   "outputs": [],
   "source": [
    "worse_results_df = pd.DataFrame(worse_results)"
   ]
  },
  {
   "cell_type": "code",
   "execution_count": 22,
   "id": "71e3dc13",
   "metadata": {},
   "outputs": [],
   "source": [
    "worse_results_df = pd.merge(meta_data_df, worse_results_df.reset_index(),\n",
    "                            left_index=True, right_index=True).drop('index', axis=1)"
   ]
  },
  {
   "cell_type": "code",
   "execution_count": 24,
   "id": "a819ce00",
   "metadata": {},
   "outputs": [],
   "source": [
    "best_results_df = pd.DataFrame(best_results)"
   ]
  },
  {
   "cell_type": "code",
   "execution_count": 25,
   "id": "6facb3f8",
   "metadata": {},
   "outputs": [],
   "source": [
    "best_results_df = pd.merge(meta_data_df, best_results_df.reset_index(),\n",
    "                           left_index=True, right_index=True).drop('index', axis=1)"
   ]
  },
  {
   "cell_type": "code",
   "execution_count": 2,
   "id": "a0ec6bd3",
   "metadata": {},
   "outputs": [],
   "source": [
    "os.chdir('/Users/vincent/Desktop/CO666 Final Project/Data')"
   ]
  },
  {
   "cell_type": "code",
   "execution_count": 3,
   "id": "7649ea97",
   "metadata": {},
   "outputs": [],
   "source": [
    "# theory_df.to_csv('theory_df.csv')\n",
    "theory_df = pd.read_csv('theory_df.csv')"
   ]
  },
  {
   "cell_type": "code",
   "execution_count": 4,
   "id": "15797f66",
   "metadata": {},
   "outputs": [],
   "source": [
    "# average_results_df.to_csv('average_results_df.csv')\n",
    "average_results_df = pd.read_csv('average_results_df.csv')"
   ]
  },
  {
   "cell_type": "code",
   "execution_count": 5,
   "id": "3ab5671a",
   "metadata": {},
   "outputs": [],
   "source": [
    "# best_results_df.to_csv('best_results_df.csv')\n",
    "best_results_df = pd.read_csv('best_results_df.csv')"
   ]
  },
  {
   "cell_type": "code",
   "execution_count": 6,
   "id": "3bc7b696",
   "metadata": {},
   "outputs": [],
   "source": [
    "# worse_results_df.to_csv('worse_results_df.csv')\n",
    "worse_results_df = pd.read_csv('worse_results_df.csv')"
   ]
  },
  {
   "cell_type": "code",
   "execution_count": 7,
   "id": "b81a75df",
   "metadata": {},
   "outputs": [
    {
     "data": {
      "image/png": "[encoded data removed]",
      "text/plain": [
       "<Figure size 432x288 with 1 Axes>"
      ]
     },
     "metadata": {
      "needs_background": "light"
     },
     "output_type": "display_data"
    }
   ],
   "source": [
    "plt.hist(average_results_df['L'], bins=30)\n",
    "plt.xlabel('Lipschitz constant')\n",
    "plt.savefig('Lipschitz_constant.png')"
   ]
  },
  {
   "cell_type": "code",
   "execution_count": 8,
   "id": "717532e4",
   "metadata": {},
   "outputs": [
    {
     "data": {
      "image/png": "[encoded data removed]",
      "text/plain": [
       "<Figure size 432x288 with 1 Axes>"
      ]
     },
     "metadata": {
      "needs_background": "light"
     },
     "output_type": "display_data"
    }
   ],
   "source": [
    "plt.hist(average_results_df['sigma'], bins=30)\n",
    "plt.xlabel('Sigma strongly convex')\n",
    "plt.savefig('sigma.png')"
   ]
  },
  {
   "cell_type": "code",
   "execution_count": 11,
   "id": "b5a06761",
   "metadata": {},
   "outputs": [
    {
     "data": {
      "image/png": "[encoded data removed]",
      "text/plain": [
       "<Figure size 432x288 with 1 Axes>"
      ]
     },
     "metadata": {
      "needs_background": "light"
     },
     "output_type": "display_data"
    }
   ],
   "source": [
    "plt.hist(worse_results_df['random'] - best_results_df['random'], bins=30)\n",
    "plt.xlabel('Convergence Difference')\n",
    "plt.savefig('convergence.png')\n",
    "plt.show()"
   ]
  },
  {
   "cell_type": "code",
   "execution_count": 16,
   "id": "1c02d980",
   "metadata": {},
   "outputs": [
    {
     "data": {
      "image/png": "[encoded data removed]",
      "text/plain": [
       "<Figure size 432x288 with 1 Axes>"
      ]
     },
     "metadata": {
      "needs_background": "light"
     },
     "output_type": "display_data"
    }
   ],
   "source": [
    "plt.hist((worse_results_df['random'] - best_results_df['random'])/average_results_df['random'], bins=30)\n",
    "plt.xlabel('Normalized Spread')\n",
    "plt.savefig('convergence.png')\n",
    "plt.show()"
   ]
  }
 ],
 "metadata": {
  "kernelspec": {
   "display_name": "Python 3 (ipykernel)",
   "language": "python",
   "name": "python3"
  },
  "language_info": {
   "codemirror_mode": {
    "name": "ipython",
    "version": 3
   },
   "file_extension": ".py",
   "mimetype": "text/x-python",
   "name": "python",
   "nbconvert_exporter": "python",
   "pygments_lexer": "ipython3",
   "version": "3.7.11"
  }
 },
 "nbformat": 4,
 "nbformat_minor": 5
}
